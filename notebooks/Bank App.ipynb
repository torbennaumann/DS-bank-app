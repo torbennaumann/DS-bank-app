{
 "cells": [
  {
   "cell_type": "code",
   "execution_count": 11,
   "metadata": {},
   "outputs": [],
   "source": [
    "%load_ext autoreload\n",
    "%autoreload 2"
   ]
  },
  {
   "cell_type": "code",
   "execution_count": 16,
   "metadata": {},
   "outputs": [],
   "source": [
    "from app import Bank"
   ]
  },
  {
   "cell_type": "code",
   "execution_count": 22,
   "metadata": {},
   "outputs": [],
   "source": [
    "bank = Bank('Moneybank')"
   ]
  },
  {
   "cell_type": "code",
   "execution_count": 23,
   "metadata": {},
   "outputs": [
    {
     "name": "stdout",
     "output_type": "stream",
     "text": [
      "Bank: Moneybank\n",
      "Accounts: []\n",
      "Transactions: []\n"
     ]
    }
   ],
   "source": [
    "print(f'Bank: {bank.name}')\n",
    "print(f'Accounts: {bank.accounts}')\n",
    "print(f'Transactions: {bank.transactions}')"
   ]
  },
  {
   "cell_type": "code",
   "execution_count": 27,
   "metadata": {},
   "outputs": [],
   "source": [
    "bezos = bank.open_account({\n",
    "            'number': 1,\n",
    "            'firstname': 'Jeff',\n",
    "            'lastname': 'Bezos',\n",
    "        })"
   ]
  },
  {
   "cell_type": "code",
   "execution_count": 28,
   "metadata": {},
   "outputs": [
    {
     "name": "stdout",
     "output_type": "stream",
     "text": [
      "Bank: Moneybank\n",
      "Accounts: [{'number': 1, 'firstname': 'Jeff', 'lastname': 'Bezos'}]\n",
      "Transactions: []\n"
     ]
    }
   ],
   "source": [
    "print(f'Bank: {bank.name}')\n",
    "print(f'Accounts: {bank.accounts}')\n",
    "print(f'Transactions: {bank.transactions}')"
   ]
  },
  {
   "cell_type": "code",
   "execution_count": 33,
   "metadata": {
    "scrolled": true
   },
   "outputs": [],
   "source": [
    "gates = bank.open_account({\n",
    "            'number': 2,\n",
    "            'firstname': 'Bill',\n",
    "            'lastname': 'Gates',\n",
    "        })"
   ]
  },
  {
   "cell_type": "code",
   "execution_count": 34,
   "metadata": {},
   "outputs": [
    {
     "name": "stdout",
     "output_type": "stream",
     "text": [
      "Bank: Moneybank\n",
      "Accounts: [{'number': 1, 'firstname': 'Jeff', 'lastname': 'Bezos'}, {'number': 2, 'firstname': 'Bill', 'lastname': 'Gates'}]\n",
      "Transactions: []\n"
     ]
    }
   ],
   "source": [
    "print(f'Bank: {bank.name}')\n",
    "print(f'Accounts: {bank.accounts}')\n",
    "print(f'Transactions: {bank.transactions}')"
   ]
  },
  {
   "cell_type": "code",
   "execution_count": 79,
   "metadata": {},
   "outputs": [],
   "source": [
    "bezos = bank.add_transaction(sender=gates,\n",
    "                                           recipient=bezos,\n",
    "                                           subject='ConfidentialInformation',\n",
    "                                           amount=200)"
   ]
  },
  {
   "cell_type": "code",
   "execution_count": 80,
   "metadata": {},
   "outputs": [
    {
     "name": "stdout",
     "output_type": "stream",
     "text": [
      "Bank: Moneybank\n",
      "Accounts: [{'number': 1, 'firstname': 'Jeff', 'lastname': 'Bezos'}, {'number': 2, 'firstname': 'Bill', 'lastname': 'Gates'}]\n",
      "Transactions: [{'sender': {'number': 2, 'firstname': 'Bill', 'lastname': 'Gates'}, 'recipient': {'number': 1, 'firstname': 'Jeff', 'lastname': 'Bezos'}, 'subject': 'ConfidentialInformation', 'amount': 100}, {'sender': {'sender': {'number': 2, 'firstname': 'Bill', 'lastname': 'Gates'}, 'recipient': {'number': 1, 'firstname': 'Jeff', 'lastname': 'Bezos'}, 'subject': 'ConfidentialInformation', 'amount': 100}, 'recipient': {'number': 2, 'firstname': 'Bill', 'lastname': 'Gates'}, 'subject': 'Thanks', 'amount': 50}, {'sender': {'sender': {'number': 2, 'firstname': 'Bill', 'lastname': 'Gates'}, 'recipient': {'number': 1, 'firstname': 'Jeff', 'lastname': 'Bezos'}, 'subject': 'ConfidentialInformation', 'amount': 100}, 'recipient': {'sender': {'sender': {'number': 2, 'firstname': 'Bill', 'lastname': 'Gates'}, 'recipient': {'number': 1, 'firstname': 'Jeff', 'lastname': 'Bezos'}, 'subject': 'ConfidentialInformation', 'amount': 100}, 'recipient': {'number': 2, 'firstname': 'Bill', 'lastname': 'Gates'}, 'subject': 'Thanks', 'amount': 50}, 'subject': 'Thanks', 'amount': 50}, {'sender': {'sender': {'number': 2, 'firstname': 'Bill', 'lastname': 'Gates'}, 'recipient': {'number': 1, 'firstname': 'Jeff', 'lastname': 'Bezos'}, 'subject': 'ConfidentialInformation', 'amount': 100}, 'recipient': {'sender': {'sender': {'number': 2, 'firstname': 'Bill', 'lastname': 'Gates'}, 'recipient': {'number': 1, 'firstname': 'Jeff', 'lastname': 'Bezos'}, 'subject': 'ConfidentialInformation', 'amount': 100}, 'recipient': {'sender': {'sender': {'number': 2, 'firstname': 'Bill', 'lastname': 'Gates'}, 'recipient': {'number': 1, 'firstname': 'Jeff', 'lastname': 'Bezos'}, 'subject': 'ConfidentialInformation', 'amount': 100}, 'recipient': {'number': 2, 'firstname': 'Bill', 'lastname': 'Gates'}, 'subject': 'Thanks', 'amount': 50}, 'subject': 'Thanks', 'amount': 50}, 'subject': 'Thanks', 'amount': 50}, {'sender': {'sender': {'sender': {'number': 2, 'firstname': 'Bill', 'lastname': 'Gates'}, 'recipient': {'number': 1, 'firstname': 'Jeff', 'lastname': 'Bezos'}, 'subject': 'ConfidentialInformation', 'amount': 100}, 'recipient': {'sender': {'sender': {'number': 2, 'firstname': 'Bill', 'lastname': 'Gates'}, 'recipient': {'number': 1, 'firstname': 'Jeff', 'lastname': 'Bezos'}, 'subject': 'ConfidentialInformation', 'amount': 100}, 'recipient': {'sender': {'sender': {'number': 2, 'firstname': 'Bill', 'lastname': 'Gates'}, 'recipient': {'number': 1, 'firstname': 'Jeff', 'lastname': 'Bezos'}, 'subject': 'ConfidentialInformation', 'amount': 100}, 'recipient': {'number': 2, 'firstname': 'Bill', 'lastname': 'Gates'}, 'subject': 'Thanks', 'amount': 50}, 'subject': 'Thanks', 'amount': 50}, 'subject': 'Thanks', 'amount': 50}, 'recipient': {'sender': {'number': 2, 'firstname': 'Bill', 'lastname': 'Gates'}, 'recipient': {'number': 1, 'firstname': 'Jeff', 'lastname': 'Bezos'}, 'subject': 'ConfidentialInformation', 'amount': 100}, 'subject': 'ConfidentialInformation', 'amount': 200}]\n"
     ]
    }
   ],
   "source": [
    "print(f'Bank: {bank.name}')\n",
    "print(f'Accounts: {bank.accounts}')\n",
    "print(f'Transactions: {bank.transactions}')"
   ]
  },
  {
   "cell_type": "code",
   "execution_count": null,
   "metadata": {},
   "outputs": [],
   "source": []
  },
  {
   "cell_type": "code",
   "execution_count": 82,
   "metadata": {},
   "outputs": [],
   "source": [
    "gates = bank.add_transaction(sender=bezos,\n",
    "                                           recipient=gates,\n",
    "                                           subject='Thanks',\n",
    "                                           amount=50)"
   ]
  },
  {
   "cell_type": "code",
   "execution_count": 87,
   "metadata": {},
   "outputs": [
    {
     "data": {
      "text/plain": [
       "500"
      ]
     },
     "execution_count": 87,
     "metadata": {},
     "output_type": "execute_result"
    }
   ],
   "source": [
    "bank.tot_revenue()"
   ]
  },
  {
   "cell_type": "code",
   "execution_count": 92,
   "metadata": {},
   "outputs": [
    {
     "name": "stdout",
     "output_type": "stream",
     "text": [
      "Name: Moneybank\n",
      "Account(s): 2\n",
      "Name: Bezos, Jeff\n",
      "Name: Gates, Bill\n",
      "Transaction(s): 6\n",
      "Total revenue streams: 500\n"
     ]
    }
   ],
   "source": [
    "bank.info()"
   ]
  },
  {
   "cell_type": "code",
   "execution_count": 93,
   "metadata": {},
   "outputs": [],
   "source": [
    "gates = bank.add_transaction(sender=bezos,\n",
    "                                           recipient=gates,\n",
    "                                           subject='TGIF',\n",
    "                                           amount=250)"
   ]
  },
  {
   "cell_type": "code",
   "execution_count": 100,
   "metadata": {},
   "outputs": [
    {
     "name": "stdout",
     "output_type": "stream",
     "text": [
      "Name: Moneybank\n",
      "Account(s): 2\n",
      "Name: Bezos, Jeff 7\n",
      "Name: Gates, Bill 7\n",
      "Transaction(s): 7\n",
      "Total revenue streams: 750\n"
     ]
    }
   ],
   "source": [
    "bank.info()"
   ]
  },
  {
   "cell_type": "code",
   "execution_count": 104,
   "metadata": {},
   "outputs": [
    {
     "ename": "NameError",
     "evalue": "name 'string' is not defined",
     "output_type": "error",
     "traceback": [
      "\u001b[0;31m---------------------------------------------------------------------------\u001b[0m",
      "\u001b[0;31mNameError\u001b[0m                                 Traceback (most recent call last)",
      "\u001b[0;32m<ipython-input-104-84ee47538d42>\u001b[0m in \u001b[0;36m<module>\u001b[0;34m\u001b[0m\n\u001b[0;32m----> 1\u001b[0;31m \u001b[0mbank\u001b[0m\u001b[0;34m.\u001b[0m\u001b[0mind_transaction\u001b[0m\u001b[0;34m(\u001b[0m\u001b[0;34m)\u001b[0m\u001b[0;34m\u001b[0m\u001b[0;34m\u001b[0m\u001b[0m\n\u001b[0m",
      "\u001b[0;32m~/PycharmProjects/DS-bank-app/src/app/bank.py\u001b[0m in \u001b[0;36mind_transaction\u001b[0;34m(self)\u001b[0m\n\u001b[1;32m     32\u001b[0m     \u001b[0;32mdef\u001b[0m \u001b[0mind_transaction\u001b[0m\u001b[0;34m(\u001b[0m\u001b[0mself\u001b[0m\u001b[0;34m)\u001b[0m\u001b[0;34m:\u001b[0m\u001b[0;34m\u001b[0m\u001b[0;34m\u001b[0m\u001b[0m\n\u001b[1;32m     33\u001b[0m         \u001b[0mcounts\u001b[0m \u001b[0;34m=\u001b[0m \u001b[0;34m[\u001b[0m\u001b[0mtransaction\u001b[0m\u001b[0;34m[\u001b[0m\u001b[0;34m'sender'\u001b[0m\u001b[0;34m]\u001b[0m \u001b[0;32mfor\u001b[0m \u001b[0mtransaction\u001b[0m \u001b[0;32min\u001b[0m \u001b[0mself\u001b[0m\u001b[0;34m.\u001b[0m\u001b[0mtransactions\u001b[0m\u001b[0;34m]\u001b[0m\u001b[0;34m\u001b[0m\u001b[0;34m\u001b[0m\u001b[0m\n\u001b[0;32m---> 34\u001b[0;31m         \u001b[0mstring\u001b[0m\u001b[0;34m.\u001b[0m\u001b[0mcount\u001b[0m\u001b[0;34m(\u001b[0m\u001b[0mcounts\u001b[0m\u001b[0;34m)\u001b[0m\u001b[0;34m\u001b[0m\u001b[0;34m\u001b[0m\u001b[0m\n\u001b[0m\u001b[1;32m     35\u001b[0m         \u001b[0mprint\u001b[0m\u001b[0;34m(\u001b[0m\u001b[0mstring\u001b[0m\u001b[0;34m.\u001b[0m\u001b[0mcount\u001b[0m\u001b[0;34m(\u001b[0m\u001b[0mcounts\u001b[0m\u001b[0;34m)\u001b[0m\u001b[0;34m)\u001b[0m\u001b[0;34m\u001b[0m\u001b[0;34m\u001b[0m\u001b[0m\n\u001b[1;32m     36\u001b[0m \u001b[0;34m\u001b[0m\u001b[0m\n",
      "\u001b[0;31mNameError\u001b[0m: name 'string' is not defined"
     ]
    }
   ],
   "source": [
    "bank.ind_transaction()"
   ]
  },
  {
   "cell_type": "code",
   "execution_count": null,
   "metadata": {},
   "outputs": [],
   "source": []
  },
  {
   "cell_type": "code",
   "execution_count": null,
   "metadata": {},
   "outputs": [],
   "source": []
  },
  {
   "cell_type": "code",
   "execution_count": null,
   "metadata": {},
   "outputs": [],
   "source": []
  },
  {
   "cell_type": "code",
   "execution_count": null,
   "metadata": {},
   "outputs": [],
   "source": []
  },
  {
   "cell_type": "code",
   "execution_count": null,
   "metadata": {},
   "outputs": [],
   "source": []
  },
  {
   "cell_type": "code",
   "execution_count": null,
   "metadata": {},
   "outputs": [],
   "source": []
  },
  {
   "cell_type": "code",
   "execution_count": null,
   "metadata": {},
   "outputs": [],
   "source": []
  }
 ],
 "metadata": {
  "kernelspec": {
   "display_name": "Python 3",
   "language": "python",
   "name": "python3"
  },
  "language_info": {
   "codemirror_mode": {
    "name": "ipython",
    "version": 3
   },
   "file_extension": ".py",
   "mimetype": "text/x-python",
   "name": "python",
   "nbconvert_exporter": "python",
   "pygments_lexer": "ipython3",
   "version": "3.6.8"
  }
 },
 "nbformat": 4,
 "nbformat_minor": 2
}
